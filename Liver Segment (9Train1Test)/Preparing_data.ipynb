{
 "cells": [
  {
   "cell_type": "markdown",
   "id": "4a8af91f-73e5-458b-bc41-2cfa0f2f5cf9",
   "metadata": {
    "jp-MarkdownHeadingCollapsed": true
   },
   "source": [
    "# Imports"
   ]
  },
  {
   "cell_type": "code",
   "execution_count": 12,
   "id": "0b52dd9a-26a1-40ef-a983-14d0a337e134",
   "metadata": {},
   "outputs": [],
   "source": [
    "from glob import glob\n",
    "import shutil\n",
    "import os"
   ]
  },
  {
   "cell_type": "markdown",
   "id": "8789cc94-d9b8-41db-8a0b-1bbbecd3ec63",
   "metadata": {
    "jp-MarkdownHeadingCollapsed": true
   },
   "source": [
    "# Create groups of 64 slices"
   ]
  },
  {
   "cell_type": "code",
   "execution_count": 5,
   "id": "b84e2599-f30e-40e0-85a3-b0e9027cbb51",
   "metadata": {},
   "outputs": [],
   "source": [
    "in_path = 'C:/Users/User/Downloads/Liver/labels'\n",
    "out_path = 'C:/Users/User/Downloads/Liver/dicom_groups/labels'"
   ]
  },
  {
   "cell_type": "code",
   "execution_count": 18,
   "id": "f0122d50-5622-475e-9070-4de7ce67b466",
   "metadata": {},
   "outputs": [
    {
     "name": "stdout",
     "output_type": "stream",
     "text": [
      "C:/Users/User/Downloads/Liver/labels\\liver_0\n",
      "C:/Users/User/Downloads/Liver/labels\\liver_1\n",
      "C:/Users/User/Downloads/Liver/labels\\liver_2\n",
      "C:/Users/User/Downloads/Liver/labels\\liver_3\n",
      "C:/Users/User/Downloads/Liver/labels\\liver_4\n",
      "C:/Users/User/Downloads/Liver/labels\\liver_5\n",
      "C:/Users/User/Downloads/Liver/labels\\liver_6\n",
      "C:/Users/User/Downloads/Liver/labels\\liver_7\n",
      "C:/Users/User/Downloads/Liver/labels\\liver_8\n",
      "C:/Users/User/Downloads/Liver/labels\\liver_9\n"
     ]
    }
   ],
   "source": [
    "# glob --> creates the list of directories also handling Unix code\n",
    "for patient in glob(in_path + '/*'):\n",
    "    print(patient)"
   ]
  },
  {
   "cell_type": "code",
   "execution_count": 25,
   "id": "1490d7ef-cafb-4540-ae8a-45ea8f97f0f1",
   "metadata": {},
   "outputs": [],
   "source": [
    "for patient in glob(in_path + '/*'):\n",
    "    patient_name = os.path.basename(os.path.normpath(patient)) \n",
    "    number_folders = int(len(glob(patient+'/*'))/64) # number of folders required to group 64 for each patient\n",
    "\n",
    "    for i in range(number_folders):\n",
    "        output_path_name = os.path.join(out_path, patient_name + '_' + str(i))\n",
    "        os.mkdir(output_path_name)\n",
    "        for j, file in enumerate(glob(patient+'/*')):\n",
    "            if j == 64:\n",
    "                break\n",
    "            shutil.move(file, output_path_name)"
   ]
  },
  {
   "cell_type": "markdown",
   "id": "6916b1ba-b9b1-4a7a-8114-7523dc2ff011",
   "metadata": {
    "jp-MarkdownHeadingCollapsed": true
   },
   "source": [
    "# 64 slices of images"
   ]
  },
  {
   "cell_type": "code",
   "execution_count": 26,
   "id": "50fc3846-faf8-42da-949c-a8d800c02397",
   "metadata": {},
   "outputs": [],
   "source": [
    "in_path = 'C:/Users/User/Downloads/Liver/images'\n",
    "out_path = 'C:/Users/User/Downloads/Liver/dicom_groups/images'"
   ]
  },
  {
   "cell_type": "code",
   "execution_count": 27,
   "id": "8175ab5f-73d7-49f8-b3b2-c3392976b04f",
   "metadata": {},
   "outputs": [],
   "source": [
    "for patient in glob(in_path + '/*'):\n",
    "    patient_name = os.path.basename(os.path.normpath(patient)) \n",
    "    number_folders = int(len(glob(patient+'/*'))/64) # number of folders required to group 64 for each patient\n",
    "\n",
    "    for i in range(number_folders):\n",
    "        output_path_name = os.path.join(out_path, patient_name + '_' + str(i))\n",
    "        os.mkdir(output_path_name)\n",
    "        for j, file in enumerate(glob(patient+'/*')):\n",
    "            if j == 64:\n",
    "                break\n",
    "            shutil.move(file, output_path_name)"
   ]
  },
  {
   "cell_type": "markdown",
   "id": "04c706e5-1c76-4a0a-af36-c238e86a8ed8",
   "metadata": {
    "jp-MarkdownHeadingCollapsed": true
   },
   "source": [
    "# Convert DICOM to NIfTI"
   ]
  },
  {
   "cell_type": "code",
   "execution_count": 29,
   "id": "f1b4ef34-f594-42b6-b7a1-cce4e0dc8c5e",
   "metadata": {},
   "outputs": [],
   "source": [
    "import dicom2nifti"
   ]
  },
  {
   "cell_type": "code",
   "execution_count": 32,
   "id": "efbafb03-63f8-4d51-9dda-cce1e67515e5",
   "metadata": {},
   "outputs": [],
   "source": [
    "in_path_images = 'C:/Users/User/Downloads/Liver/dicom_groups/images/*'\n",
    "in_path_labels = 'C:/Users/User/Downloads/Liver/dicom_groups/labels/*'\n",
    "\n",
    "out_path_images = 'C:/Users/User/Downloads/Liver/nifit_files/images'\n",
    "out_path_labels = 'C:/Users/User/Downloads/Liver/nifit_files/labels'\n",
    "\n",
    "list_images = glob(in_path_images)\n",
    "list_labels = glob(in_path_labels)"
   ]
  },
  {
   "cell_type": "code",
   "execution_count": 34,
   "id": "7d7b3c8f-40ad-4d57-8704-55ce598560a9",
   "metadata": {},
   "outputs": [],
   "source": [
    "for patient in list_images:\n",
    "    patient_name = os.path.basename(os.path.normpath(patient))\n",
    "    dicom2nifti.dicom_series_to_nifti(patient, os.path.join(out_path_images, patient_name + '.nii.gz'))"
   ]
  },
  {
   "cell_type": "code",
   "execution_count": 35,
   "id": "a3ee8dea-bcbf-47b6-b19d-8a9de81a1655",
   "metadata": {},
   "outputs": [],
   "source": [
    "for patient in list_labels:\n",
    "    patient_name = os.path.basename(os.path.normpath(patient))\n",
    "    dicom2nifti.dicom_series_to_nifti(patient, os.path.join(out_path_labels, patient_name + '.nii.gz'))"
   ]
  },
  {
   "cell_type": "markdown",
   "id": "8b7986c4-91f6-4fde-a835-fd6e0ad368d9",
   "metadata": {},
   "source": [
    "# Find empty"
   ]
  },
  {
   "cell_type": "code",
   "execution_count": 51,
   "id": "92161777-dfd8-46d6-a7b7-edbeeb33f1c4",
   "metadata": {},
   "outputs": [],
   "source": [
    "import nibabel as nib\n",
    "import numpy as np"
   ]
  },
  {
   "cell_type": "code",
   "execution_count": 55,
   "id": "4dbd2249-7f26-4053-8a3e-9e9985fc568e",
   "metadata": {},
   "outputs": [
    {
     "name": "stdout",
     "output_type": "stream",
     "text": [
      "[0. 1. 2.]\n",
      "[0. 1. 2.]\n",
      "[0.]\n",
      "C:/Users/User/Downloads/Liver/nifit_files/labels\\liver_2_0.nii.gz\n",
      "[0.]\n",
      "C:/Users/User/Downloads/Liver/nifit_files/labels\\liver_2_1.nii.gz\n",
      "[0.]\n",
      "C:/Users/User/Downloads/Liver/nifit_files/labels\\liver_2_2.nii.gz\n",
      "[0.]\n",
      "C:/Users/User/Downloads/Liver/nifit_files/labels\\liver_2_3.nii.gz\n",
      "[0.]\n",
      "C:/Users/User/Downloads/Liver/nifit_files/labels\\liver_2_4.nii.gz\n",
      "[0. 1.]\n",
      "[0. 1. 2.]\n",
      "[0. 1. 2.]\n",
      "[0.]\n",
      "C:/Users/User/Downloads/Liver/nifit_files/labels\\liver_3_0.nii.gz\n",
      "[0.]\n",
      "C:/Users/User/Downloads/Liver/nifit_files/labels\\liver_3_1.nii.gz\n",
      "[0.]\n",
      "C:/Users/User/Downloads/Liver/nifit_files/labels\\liver_3_2.nii.gz\n",
      "[0.]\n",
      "C:/Users/User/Downloads/Liver/nifit_files/labels\\liver_3_3.nii.gz\n",
      "[0. 1.]\n",
      "[0. 1. 2.]\n",
      "[0. 1.]\n",
      "[0. 1.]\n",
      "[0.]\n",
      "C:/Users/User/Downloads/Liver/nifit_files/labels\\liver_4_0.nii.gz\n",
      "[0.]\n",
      "C:/Users/User/Downloads/Liver/nifit_files/labels\\liver_4_1.nii.gz\n",
      "[0.]\n",
      "C:/Users/User/Downloads/Liver/nifit_files/labels\\liver_4_10.nii.gz\n",
      "[0.]\n",
      "C:/Users/User/Downloads/Liver/nifit_files/labels\\liver_4_11.nii.gz\n",
      "[0.]\n",
      "C:/Users/User/Downloads/Liver/nifit_files/labels\\liver_4_12.nii.gz\n",
      "[0.]\n",
      "C:/Users/User/Downloads/Liver/nifit_files/labels\\liver_4_2.nii.gz\n",
      "[0.]\n",
      "C:/Users/User/Downloads/Liver/nifit_files/labels\\liver_4_3.nii.gz\n",
      "[0.]\n",
      "C:/Users/User/Downloads/Liver/nifit_files/labels\\liver_4_4.nii.gz\n",
      "[0. 1. 2.]\n",
      "[0. 1. 2.]\n",
      "[0. 1. 2.]\n",
      "[0. 1. 2.]\n",
      "[0. 1. 2.]\n",
      "[0.]\n",
      "C:/Users/User/Downloads/Liver/nifit_files/labels\\liver_5_0.nii.gz\n",
      "[0.]\n",
      "C:/Users/User/Downloads/Liver/nifit_files/labels\\liver_5_1.nii.gz\n",
      "[0.]\n",
      "C:/Users/User/Downloads/Liver/nifit_files/labels\\liver_5_2.nii.gz\n",
      "[0.]\n",
      "C:/Users/User/Downloads/Liver/nifit_files/labels\\liver_5_3.nii.gz\n",
      "[0. 1.]\n",
      "[0. 1.]\n",
      "[0. 1.]\n",
      "[0. 1. 2.]\n",
      "[0.]\n",
      "C:/Users/User/Downloads/Liver/nifit_files/labels\\liver_6_0.nii.gz\n",
      "[0.]\n",
      "C:/Users/User/Downloads/Liver/nifit_files/labels\\liver_6_1.nii.gz\n",
      "[0.]\n",
      "C:/Users/User/Downloads/Liver/nifit_files/labels\\liver_6_2.nii.gz\n",
      "[0.]\n",
      "C:/Users/User/Downloads/Liver/nifit_files/labels\\liver_6_3.nii.gz\n",
      "[0. 1.]\n",
      "[0. 1. 2.]\n",
      "[0. 1. 2.]\n",
      "[0. 1. 2.]\n",
      "[0.]\n",
      "C:/Users/User/Downloads/Liver/nifit_files/labels\\liver_7_0.nii.gz\n",
      "[0.]\n",
      "C:/Users/User/Downloads/Liver/nifit_files/labels\\liver_7_1.nii.gz\n",
      "[0.]\n",
      "C:/Users/User/Downloads/Liver/nifit_files/labels\\liver_7_2.nii.gz\n",
      "[0.]\n",
      "C:/Users/User/Downloads/Liver/nifit_files/labels\\liver_7_3.nii.gz\n",
      "[0.]\n",
      "C:/Users/User/Downloads/Liver/nifit_files/labels\\liver_7_4.nii.gz\n",
      "[0. 1. 2.]\n",
      "[0. 1. 2.]\n",
      "[0. 1. 2.]\n",
      "[0.]\n",
      "C:/Users/User/Downloads/Liver/nifit_files/labels\\liver_8_0.nii.gz\n",
      "[0.]\n",
      "C:/Users/User/Downloads/Liver/nifit_files/labels\\liver_8_1.nii.gz\n",
      "[0.]\n",
      "C:/Users/User/Downloads/Liver/nifit_files/labels\\liver_8_2.nii.gz\n",
      "[0.]\n",
      "C:/Users/User/Downloads/Liver/nifit_files/labels\\liver_8_3.nii.gz\n",
      "[0.]\n",
      "C:/Users/User/Downloads/Liver/nifit_files/labels\\liver_8_4.nii.gz\n",
      "[0. 1. 2.]\n",
      "[0. 1. 2.]\n",
      "[0. 1. 2.]\n",
      "[0.]\n",
      "C:/Users/User/Downloads/Liver/nifit_files/labels\\liver_9_0.nii.gz\n",
      "[0.]\n",
      "C:/Users/User/Downloads/Liver/nifit_files/labels\\liver_9_1.nii.gz\n",
      "[0.]\n",
      "C:/Users/User/Downloads/Liver/nifit_files/labels\\liver_9_2.nii.gz\n",
      "[0.]\n",
      "C:/Users/User/Downloads/Liver/nifit_files/labels\\liver_9_3.nii.gz\n",
      "[0.]\n",
      "C:/Users/User/Downloads/Liver/nifit_files/labels\\liver_9_4.nii.gz\n",
      "[0. 1. 2.]\n",
      "[0. 1. 2.]\n",
      "[0. 1. 2.]\n"
     ]
    }
   ],
   "source": [
    "input_nifti_file_path = 'C:/Users/User/Downloads/Liver/nifit_files/labels/*'\n",
    "list_nifti_labels = glob(input_nifti_file_path)\n",
    "\n",
    "for patient in list_nifti_labels:\n",
    "    nifti_file = nib.load(patient)\n",
    "    fdata = nifti_file.get_fdata() # retrieves the image data as a NumPy array, here, 64 slides\n",
    "    np_unique = np.unique(fdata) # Find the unique value in array \n",
    "    print(np_unique)\n",
    "    if len(np_unique) == 1: # if only 0 in the array --> empty image\n",
    "        print(patient)"
   ]
  },
  {
   "cell_type": "code",
   "execution_count": 56,
   "id": "2325cde6-4f3c-40fd-9d27-1c0e491b24f9",
   "metadata": {},
   "outputs": [
    {
     "name": "stdout",
     "output_type": "stream",
     "text": [
      "C:/Users/User/Downloads/Liver/nifit_files/labels\\liver_2_0.nii.gz\n",
      "C:/Users/User/Downloads/Liver/nifit_files/labels\\liver_2_1.nii.gz\n",
      "C:/Users/User/Downloads/Liver/nifit_files/labels\\liver_2_2.nii.gz\n",
      "C:/Users/User/Downloads/Liver/nifit_files/labels\\liver_2_3.nii.gz\n",
      "C:/Users/User/Downloads/Liver/nifit_files/labels\\liver_2_4.nii.gz\n",
      "C:/Users/User/Downloads/Liver/nifit_files/labels\\liver_3_0.nii.gz\n",
      "C:/Users/User/Downloads/Liver/nifit_files/labels\\liver_3_1.nii.gz\n",
      "C:/Users/User/Downloads/Liver/nifit_files/labels\\liver_3_2.nii.gz\n",
      "C:/Users/User/Downloads/Liver/nifit_files/labels\\liver_3_3.nii.gz\n",
      "C:/Users/User/Downloads/Liver/nifit_files/labels\\liver_4_0.nii.gz\n",
      "C:/Users/User/Downloads/Liver/nifit_files/labels\\liver_4_1.nii.gz\n",
      "C:/Users/User/Downloads/Liver/nifit_files/labels\\liver_4_10.nii.gz\n",
      "C:/Users/User/Downloads/Liver/nifit_files/labels\\liver_4_11.nii.gz\n",
      "C:/Users/User/Downloads/Liver/nifit_files/labels\\liver_4_12.nii.gz\n",
      "C:/Users/User/Downloads/Liver/nifit_files/labels\\liver_4_2.nii.gz\n",
      "C:/Users/User/Downloads/Liver/nifit_files/labels\\liver_4_3.nii.gz\n",
      "C:/Users/User/Downloads/Liver/nifit_files/labels\\liver_4_4.nii.gz\n",
      "C:/Users/User/Downloads/Liver/nifit_files/labels\\liver_5_0.nii.gz\n",
      "C:/Users/User/Downloads/Liver/nifit_files/labels\\liver_5_1.nii.gz\n",
      "C:/Users/User/Downloads/Liver/nifit_files/labels\\liver_5_2.nii.gz\n",
      "C:/Users/User/Downloads/Liver/nifit_files/labels\\liver_5_3.nii.gz\n",
      "C:/Users/User/Downloads/Liver/nifit_files/labels\\liver_6_0.nii.gz\n",
      "C:/Users/User/Downloads/Liver/nifit_files/labels\\liver_6_1.nii.gz\n",
      "C:/Users/User/Downloads/Liver/nifit_files/labels\\liver_6_2.nii.gz\n",
      "C:/Users/User/Downloads/Liver/nifit_files/labels\\liver_6_3.nii.gz\n",
      "C:/Users/User/Downloads/Liver/nifit_files/labels\\liver_7_0.nii.gz\n",
      "C:/Users/User/Downloads/Liver/nifit_files/labels\\liver_7_1.nii.gz\n",
      "C:/Users/User/Downloads/Liver/nifit_files/labels\\liver_7_2.nii.gz\n",
      "C:/Users/User/Downloads/Liver/nifit_files/labels\\liver_7_3.nii.gz\n",
      "C:/Users/User/Downloads/Liver/nifit_files/labels\\liver_7_4.nii.gz\n",
      "C:/Users/User/Downloads/Liver/nifit_files/labels\\liver_8_0.nii.gz\n",
      "C:/Users/User/Downloads/Liver/nifit_files/labels\\liver_8_1.nii.gz\n",
      "C:/Users/User/Downloads/Liver/nifit_files/labels\\liver_8_2.nii.gz\n",
      "C:/Users/User/Downloads/Liver/nifit_files/labels\\liver_8_3.nii.gz\n",
      "C:/Users/User/Downloads/Liver/nifit_files/labels\\liver_8_4.nii.gz\n",
      "C:/Users/User/Downloads/Liver/nifit_files/labels\\liver_9_0.nii.gz\n",
      "C:/Users/User/Downloads/Liver/nifit_files/labels\\liver_9_1.nii.gz\n",
      "C:/Users/User/Downloads/Liver/nifit_files/labels\\liver_9_2.nii.gz\n",
      "C:/Users/User/Downloads/Liver/nifit_files/labels\\liver_9_3.nii.gz\n",
      "C:/Users/User/Downloads/Liver/nifit_files/labels\\liver_9_4.nii.gz\n"
     ]
    }
   ],
   "source": [
    "input_nifti_file_path = 'C:/Users/User/Downloads/Liver/nifit_files/labels/*'\n",
    "list_nifti_labels = glob(input_nifti_file_path)\n",
    "\n",
    "for patient in list_nifti_labels:\n",
    "    nifti_file = nib.load(patient)\n",
    "    fdata = nifti_file.get_fdata() # retrieves the image data as a NumPy array, here, 64 slides\n",
    "    np_unique = np.unique(fdata) # Find the unique value in array \n",
    "    if len(np_unique) == 1: # if only 0 in the array --> empty image\n",
    "        print(patient)"
   ]
  },
  {
   "cell_type": "code",
   "execution_count": 57,
   "id": "7cb6f928-f147-44c5-ae39-da7b0c94a3da",
   "metadata": {},
   "outputs": [
    {
     "name": "stdout",
     "output_type": "stream",
     "text": [
      "Deleted NIfTI file label: C:/Users/User/Downloads/Liver/nifit_files/labels\\liver_2_0.nii.gz\n",
      "Deleted corresponding image: C:/Users/User/Downloads/Liver/nifit_files/images/liver_2_0.nii.gz\n",
      "Deleted NIfTI file label: C:/Users/User/Downloads/Liver/nifit_files/labels\\liver_2_1.nii.gz\n",
      "Deleted corresponding image: C:/Users/User/Downloads/Liver/nifit_files/images/liver_2_1.nii.gz\n",
      "Deleted NIfTI file label: C:/Users/User/Downloads/Liver/nifit_files/labels\\liver_2_2.nii.gz\n",
      "Deleted corresponding image: C:/Users/User/Downloads/Liver/nifit_files/images/liver_2_2.nii.gz\n",
      "Deleted NIfTI file label: C:/Users/User/Downloads/Liver/nifit_files/labels\\liver_2_3.nii.gz\n",
      "Deleted corresponding image: C:/Users/User/Downloads/Liver/nifit_files/images/liver_2_3.nii.gz\n",
      "Deleted NIfTI file label: C:/Users/User/Downloads/Liver/nifit_files/labels\\liver_2_4.nii.gz\n",
      "Deleted corresponding image: C:/Users/User/Downloads/Liver/nifit_files/images/liver_2_4.nii.gz\n",
      "Deleted NIfTI file label: C:/Users/User/Downloads/Liver/nifit_files/labels\\liver_3_0.nii.gz\n",
      "Deleted corresponding image: C:/Users/User/Downloads/Liver/nifit_files/images/liver_3_0.nii.gz\n",
      "Deleted NIfTI file label: C:/Users/User/Downloads/Liver/nifit_files/labels\\liver_3_1.nii.gz\n",
      "Deleted corresponding image: C:/Users/User/Downloads/Liver/nifit_files/images/liver_3_1.nii.gz\n",
      "Deleted NIfTI file label: C:/Users/User/Downloads/Liver/nifit_files/labels\\liver_3_2.nii.gz\n",
      "Deleted corresponding image: C:/Users/User/Downloads/Liver/nifit_files/images/liver_3_2.nii.gz\n",
      "Deleted NIfTI file label: C:/Users/User/Downloads/Liver/nifit_files/labels\\liver_3_3.nii.gz\n",
      "Deleted corresponding image: C:/Users/User/Downloads/Liver/nifit_files/images/liver_3_3.nii.gz\n",
      "Deleted NIfTI file label: C:/Users/User/Downloads/Liver/nifit_files/labels\\liver_4_0.nii.gz\n",
      "Deleted corresponding image: C:/Users/User/Downloads/Liver/nifit_files/images/liver_4_0.nii.gz\n",
      "Deleted NIfTI file label: C:/Users/User/Downloads/Liver/nifit_files/labels\\liver_4_1.nii.gz\n",
      "Deleted corresponding image: C:/Users/User/Downloads/Liver/nifit_files/images/liver_4_1.nii.gz\n",
      "Deleted NIfTI file label: C:/Users/User/Downloads/Liver/nifit_files/labels\\liver_4_10.nii.gz\n",
      "Deleted corresponding image: C:/Users/User/Downloads/Liver/nifit_files/images/liver_4_10.nii.gz\n",
      "Deleted NIfTI file label: C:/Users/User/Downloads/Liver/nifit_files/labels\\liver_4_11.nii.gz\n",
      "Deleted corresponding image: C:/Users/User/Downloads/Liver/nifit_files/images/liver_4_11.nii.gz\n",
      "Deleted NIfTI file label: C:/Users/User/Downloads/Liver/nifit_files/labels\\liver_4_12.nii.gz\n",
      "Deleted corresponding image: C:/Users/User/Downloads/Liver/nifit_files/images/liver_4_12.nii.gz\n",
      "Deleted NIfTI file label: C:/Users/User/Downloads/Liver/nifit_files/labels\\liver_4_2.nii.gz\n",
      "Deleted corresponding image: C:/Users/User/Downloads/Liver/nifit_files/images/liver_4_2.nii.gz\n",
      "Deleted NIfTI file label: C:/Users/User/Downloads/Liver/nifit_files/labels\\liver_4_3.nii.gz\n",
      "Deleted corresponding image: C:/Users/User/Downloads/Liver/nifit_files/images/liver_4_3.nii.gz\n",
      "Deleted NIfTI file label: C:/Users/User/Downloads/Liver/nifit_files/labels\\liver_4_4.nii.gz\n",
      "Deleted corresponding image: C:/Users/User/Downloads/Liver/nifit_files/images/liver_4_4.nii.gz\n",
      "Deleted NIfTI file label: C:/Users/User/Downloads/Liver/nifit_files/labels\\liver_5_0.nii.gz\n",
      "Deleted corresponding image: C:/Users/User/Downloads/Liver/nifit_files/images/liver_5_0.nii.gz\n",
      "Deleted NIfTI file label: C:/Users/User/Downloads/Liver/nifit_files/labels\\liver_5_1.nii.gz\n",
      "Deleted corresponding image: C:/Users/User/Downloads/Liver/nifit_files/images/liver_5_1.nii.gz\n",
      "Deleted NIfTI file label: C:/Users/User/Downloads/Liver/nifit_files/labels\\liver_5_2.nii.gz\n",
      "Deleted corresponding image: C:/Users/User/Downloads/Liver/nifit_files/images/liver_5_2.nii.gz\n",
      "Deleted NIfTI file label: C:/Users/User/Downloads/Liver/nifit_files/labels\\liver_5_3.nii.gz\n",
      "Deleted corresponding image: C:/Users/User/Downloads/Liver/nifit_files/images/liver_5_3.nii.gz\n",
      "Deleted NIfTI file label: C:/Users/User/Downloads/Liver/nifit_files/labels\\liver_6_0.nii.gz\n",
      "Deleted corresponding image: C:/Users/User/Downloads/Liver/nifit_files/images/liver_6_0.nii.gz\n",
      "Deleted NIfTI file label: C:/Users/User/Downloads/Liver/nifit_files/labels\\liver_6_1.nii.gz\n",
      "Deleted corresponding image: C:/Users/User/Downloads/Liver/nifit_files/images/liver_6_1.nii.gz\n",
      "Deleted NIfTI file label: C:/Users/User/Downloads/Liver/nifit_files/labels\\liver_6_2.nii.gz\n",
      "Deleted corresponding image: C:/Users/User/Downloads/Liver/nifit_files/images/liver_6_2.nii.gz\n",
      "Deleted NIfTI file label: C:/Users/User/Downloads/Liver/nifit_files/labels\\liver_6_3.nii.gz\n",
      "Deleted corresponding image: C:/Users/User/Downloads/Liver/nifit_files/images/liver_6_3.nii.gz\n",
      "Deleted NIfTI file label: C:/Users/User/Downloads/Liver/nifit_files/labels\\liver_7_0.nii.gz\n",
      "Deleted corresponding image: C:/Users/User/Downloads/Liver/nifit_files/images/liver_7_0.nii.gz\n",
      "Deleted NIfTI file label: C:/Users/User/Downloads/Liver/nifit_files/labels\\liver_7_1.nii.gz\n",
      "Deleted corresponding image: C:/Users/User/Downloads/Liver/nifit_files/images/liver_7_1.nii.gz\n",
      "Deleted NIfTI file label: C:/Users/User/Downloads/Liver/nifit_files/labels\\liver_7_2.nii.gz\n",
      "Deleted corresponding image: C:/Users/User/Downloads/Liver/nifit_files/images/liver_7_2.nii.gz\n",
      "Deleted NIfTI file label: C:/Users/User/Downloads/Liver/nifit_files/labels\\liver_7_3.nii.gz\n",
      "Deleted corresponding image: C:/Users/User/Downloads/Liver/nifit_files/images/liver_7_3.nii.gz\n",
      "Deleted NIfTI file label: C:/Users/User/Downloads/Liver/nifit_files/labels\\liver_7_4.nii.gz\n",
      "Deleted corresponding image: C:/Users/User/Downloads/Liver/nifit_files/images/liver_7_4.nii.gz\n",
      "Deleted NIfTI file label: C:/Users/User/Downloads/Liver/nifit_files/labels\\liver_8_0.nii.gz\n",
      "Deleted corresponding image: C:/Users/User/Downloads/Liver/nifit_files/images/liver_8_0.nii.gz\n",
      "Deleted NIfTI file label: C:/Users/User/Downloads/Liver/nifit_files/labels\\liver_8_1.nii.gz\n",
      "Deleted corresponding image: C:/Users/User/Downloads/Liver/nifit_files/images/liver_8_1.nii.gz\n",
      "Deleted NIfTI file label: C:/Users/User/Downloads/Liver/nifit_files/labels\\liver_8_2.nii.gz\n",
      "Deleted corresponding image: C:/Users/User/Downloads/Liver/nifit_files/images/liver_8_2.nii.gz\n",
      "Deleted NIfTI file label: C:/Users/User/Downloads/Liver/nifit_files/labels\\liver_8_3.nii.gz\n",
      "Deleted corresponding image: C:/Users/User/Downloads/Liver/nifit_files/images/liver_8_3.nii.gz\n",
      "Deleted NIfTI file label: C:/Users/User/Downloads/Liver/nifit_files/labels\\liver_8_4.nii.gz\n",
      "Deleted corresponding image: C:/Users/User/Downloads/Liver/nifit_files/images/liver_8_4.nii.gz\n",
      "Deleted NIfTI file label: C:/Users/User/Downloads/Liver/nifit_files/labels\\liver_9_0.nii.gz\n",
      "Deleted corresponding image: C:/Users/User/Downloads/Liver/nifit_files/images/liver_9_0.nii.gz\n",
      "Deleted NIfTI file label: C:/Users/User/Downloads/Liver/nifit_files/labels\\liver_9_1.nii.gz\n",
      "Deleted corresponding image: C:/Users/User/Downloads/Liver/nifit_files/images/liver_9_1.nii.gz\n",
      "Deleted NIfTI file label: C:/Users/User/Downloads/Liver/nifit_files/labels\\liver_9_2.nii.gz\n",
      "Deleted corresponding image: C:/Users/User/Downloads/Liver/nifit_files/images/liver_9_2.nii.gz\n",
      "Deleted NIfTI file label: C:/Users/User/Downloads/Liver/nifit_files/labels\\liver_9_3.nii.gz\n",
      "Deleted corresponding image: C:/Users/User/Downloads/Liver/nifit_files/images/liver_9_3.nii.gz\n",
      "Deleted NIfTI file label: C:/Users/User/Downloads/Liver/nifit_files/labels\\liver_9_4.nii.gz\n",
      "Deleted corresponding image: C:/Users/User/Downloads/Liver/nifit_files/images/liver_9_4.nii.gz\n"
     ]
    }
   ],
   "source": [
    "# Deleting empty images, labels\n",
    "input_nifti_file_path = 'C:/Users/User/Downloads/Liver/nifit_files/labels/*'\n",
    "list_nifti_labels = glob(input_nifti_file_path)\n",
    "\n",
    "input_nifti_image_path = 'C:/Users/User/Downloads/Liver/nifit_files/images/'\n",
    "\n",
    "for patient in list_nifti_labels:\n",
    "    nifti_file = nib.load(patient)\n",
    "    fdata = nifti_file.get_fdata() # retrieves the image data as a NumPy array, here, 64 slides\n",
    "    np_unique = np.unique(fdata) # Find the unique value in array \n",
    "    if len(np_unique) == 1: # if only 0 in the array --> empty image\n",
    "        # If the NIfTI file has only one unique value, delete it.\n",
    "        os.remove(patient)\n",
    "        print(f\"Deleted NIfTI file label: {patient}\")\n",
    "        \n",
    "        # And delete it's corresponding image file\n",
    "        image_name = os.path.basename(patient)\n",
    "        os.remove(os.path.join(input_nifti_image_path, image_name))\n",
    "        print(f\"Deleted corresponding image: {os.path.join(input_nifti_image_path, image_name)}\")\n",
    "        "
   ]
  }
 ],
 "metadata": {
  "kernelspec": {
   "display_name": "Python 3 (ipykernel)",
   "language": "python",
   "name": "python3"
  },
  "language_info": {
   "codemirror_mode": {
    "name": "ipython",
    "version": 3
   },
   "file_extension": ".py",
   "mimetype": "text/x-python",
   "name": "python",
   "nbconvert_exporter": "python",
   "pygments_lexer": "ipython3",
   "version": "3.11.5"
  }
 },
 "nbformat": 4,
 "nbformat_minor": 5
}
